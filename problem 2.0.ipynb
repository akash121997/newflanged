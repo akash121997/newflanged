{
 "cells": [
  {
   "cell_type": "code",
   "execution_count": 1,
   "metadata": {},
   "outputs": [
    {
     "name": "stdout",
     "output_type": "stream",
     "text": [
      "impolite\n",
      "undress\n",
      "rule\n",
      "illustrious\n",
      "beam\n",
      "helpless\n",
      "gold\n",
      "hair\n",
      "vacuous\n",
      "help\n",
      "guess\n",
      "squalid\n",
      "memorise\n",
      "present\n",
      "brake\n",
      "sand\n",
      "lip\n",
      "talk\n",
      "abashed\n",
      "box\n",
      "chop\n",
      "tenuous\n",
      "robin\n",
      "trees\n",
      "moor\n",
      "hunt\n",
      "old-fashioned\n"
     ]
    }
   ],
   "source": [
    "Input_array = [\"impolite\", \"cows\", \"undress\", \"rule\", \"illustrious\", \"beam\", \"helpless\", \"gold\", \"hair\", \"vacuous\", \"help\", \"guess\", \"squalid\", \"wonderful\", \"memorise\", \"present\", \"painful\", \"brake\", \"sand\", \"lip\", \"rainstorm\", \"talk\", \"abashed\", \"box\", \"partner\", \"chop\", \"tenuous\", \"robin\", \"trees\", \"moor\", \"hunt\", \"pack\", \"old-fashioned\"]\n",
    "rejected_items=[\"cows\", \"partner\", \"wonderful\", \"rainstorm\", \"pack\", \"painful\"]\n",
    "\n",
    "for item in Input_array:\n",
    "    for item1 in rejected_items:\n",
    "        if item==item1:\n",
    "            Input_array.remove(item)\n",
    "for i in Input_array:\n",
    "    print(i)\n"
   ]
  },
  {
   "cell_type": "code",
   "execution_count": null,
   "metadata": {},
   "outputs": [],
   "source": []
  }
 ],
 "metadata": {
  "kernelspec": {
   "display_name": "Python 3",
   "language": "python",
   "name": "python3"
  },
  "language_info": {
   "codemirror_mode": {
    "name": "ipython",
    "version": 3
   },
   "file_extension": ".py",
   "mimetype": "text/x-python",
   "name": "python",
   "nbconvert_exporter": "python",
   "pygments_lexer": "ipython3",
   "version": "3.7.3"
  }
 },
 "nbformat": 4,
 "nbformat_minor": 4
}
