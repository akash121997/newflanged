{
 "cells": [
  {
   "cell_type": "code",
   "execution_count": 1,
   "metadata": {},
   "outputs": [
    {
     "name": "stdout",
     "output_type": "stream",
     "text": [
      "food:1\n",
      "face:0\n",
      "the:6\n",
      "donation:1\n",
      "coalition:1\n",
      "economy:0\n",
      "sector:1\n"
     ]
    }
   ],
   "source": [
    "input_str = \"With the recent uptick to the COVID-19 positive cases and many states in various phases of restarting the economy; the food service industry and the restaurant sector have been strongly impacted. DMS Coalition is proud to announce the \\\"Facemasks For Restaurants Donation Initiative with a target of $2M in donation\\\"\"\n",
    "list1=input_str.lower().split(\" \")\n",
    "count=0\n",
    "\n",
    "Validation_array = [\"food\", \"face\",\"the\", \"donation\", \"coalition\", \"economy\", \"sector\"]\n",
    "for item in Validation_array:\n",
    "    count=0\n",
    "    for j in list1:\n",
    "        if item==j:\n",
    "            count+=1    \n",
    "\n",
    "    print(f'{item}:{count}')"
   ]
  },
  {
   "cell_type": "code",
   "execution_count": null,
   "metadata": {},
   "outputs": [],
   "source": []
  }
 ],
 "metadata": {
  "kernelspec": {
   "display_name": "Python 3",
   "language": "python",
   "name": "python3"
  },
  "language_info": {
   "codemirror_mode": {
    "name": "ipython",
    "version": 3
   },
   "file_extension": ".py",
   "mimetype": "text/x-python",
   "name": "python",
   "nbconvert_exporter": "python",
   "pygments_lexer": "ipython3",
   "version": "3.7.3"
  }
 },
 "nbformat": 4,
 "nbformat_minor": 4
}
